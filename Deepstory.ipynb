{
  "nbformat": 4,
  "nbformat_minor": 0,
  "metadata": {
    "colab": {
      "name": "Deepstory.ipynb",
      "provenance": [],
      "collapsed_sections": [],
      "include_colab_link": true
    },
    "kernelspec": {
      "name": "python3",
      "display_name": "Python 3"
    },
    "accelerator": "GPU",
    "widgets": {
      "application/vnd.jupyter.widget-state+json": {
        "4b1ab02724ed49ccb9cd4897e15dd533": {
          "model_module": "@jupyter-widgets/controls",
          "model_name": "HBoxModel",
          "state": {
            "_view_name": "HBoxView",
            "_dom_classes": [],
            "_model_name": "HBoxModel",
            "_view_module": "@jupyter-widgets/controls",
            "_model_module_version": "1.5.0",
            "_view_count": null,
            "_view_module_version": "1.5.0",
            "box_style": "",
            "layout": "IPY_MODEL_b9b16bc664f549839116e74bd7e12418",
            "_model_module": "@jupyter-widgets/controls",
            "children": [
              "IPY_MODEL_fc6064631f4141cfb816a67a109b5d10",
              "IPY_MODEL_1f09dcee5c314106aa01ab3647cf8312"
            ]
          }
        },
        "b9b16bc664f549839116e74bd7e12418": {
          "model_module": "@jupyter-widgets/base",
          "model_name": "LayoutModel",
          "state": {
            "_view_name": "LayoutView",
            "grid_template_rows": null,
            "right": null,
            "justify_content": null,
            "_view_module": "@jupyter-widgets/base",
            "overflow": null,
            "_model_module_version": "1.2.0",
            "_view_count": null,
            "flex_flow": null,
            "width": null,
            "min_width": null,
            "border": null,
            "align_items": null,
            "bottom": null,
            "_model_module": "@jupyter-widgets/base",
            "top": null,
            "grid_column": null,
            "overflow_y": null,
            "overflow_x": null,
            "grid_auto_flow": null,
            "grid_area": null,
            "grid_template_columns": null,
            "flex": null,
            "_model_name": "LayoutModel",
            "justify_items": null,
            "grid_row": null,
            "max_height": null,
            "align_content": null,
            "visibility": null,
            "align_self": null,
            "height": null,
            "min_height": null,
            "padding": null,
            "grid_auto_rows": null,
            "grid_gap": null,
            "max_width": null,
            "order": null,
            "_view_module_version": "1.2.0",
            "grid_template_areas": null,
            "object_position": null,
            "object_fit": null,
            "grid_auto_columns": null,
            "margin": null,
            "display": null,
            "left": null
          }
        },
        "fc6064631f4141cfb816a67a109b5d10": {
          "model_module": "@jupyter-widgets/controls",
          "model_name": "FloatProgressModel",
          "state": {
            "_view_name": "ProgressView",
            "style": "IPY_MODEL_12b649e7fe284ae8952a1bfcf6dac86b",
            "_dom_classes": [],
            "description": "100%",
            "_model_name": "FloatProgressModel",
            "bar_style": "success",
            "max": 89843225,
            "_view_module": "@jupyter-widgets/controls",
            "_model_module_version": "1.5.0",
            "value": 89843225,
            "_view_count": null,
            "_view_module_version": "1.5.0",
            "orientation": "horizontal",
            "min": 0,
            "description_tooltip": null,
            "_model_module": "@jupyter-widgets/controls",
            "layout": "IPY_MODEL_54d5a5591ff848489056720b98f716ca"
          }
        },
        "1f09dcee5c314106aa01ab3647cf8312": {
          "model_module": "@jupyter-widgets/controls",
          "model_name": "HTMLModel",
          "state": {
            "_view_name": "HTMLView",
            "style": "IPY_MODEL_ffe9b8bc2170455294678d1a961c1a8a",
            "_dom_classes": [],
            "description": "",
            "_model_name": "HTMLModel",
            "placeholder": "​",
            "_view_module": "@jupyter-widgets/controls",
            "_model_module_version": "1.5.0",
            "value": " 85.7M/85.7M [00:00&lt;00:00, 106MB/s]",
            "_view_count": null,
            "_view_module_version": "1.5.0",
            "description_tooltip": null,
            "_model_module": "@jupyter-widgets/controls",
            "layout": "IPY_MODEL_29030a0ddb0747f88179d2b09d0f6126"
          }
        },
        "12b649e7fe284ae8952a1bfcf6dac86b": {
          "model_module": "@jupyter-widgets/controls",
          "model_name": "ProgressStyleModel",
          "state": {
            "_view_name": "StyleView",
            "_model_name": "ProgressStyleModel",
            "description_width": "initial",
            "_view_module": "@jupyter-widgets/base",
            "_model_module_version": "1.5.0",
            "_view_count": null,
            "_view_module_version": "1.2.0",
            "bar_color": null,
            "_model_module": "@jupyter-widgets/controls"
          }
        },
        "54d5a5591ff848489056720b98f716ca": {
          "model_module": "@jupyter-widgets/base",
          "model_name": "LayoutModel",
          "state": {
            "_view_name": "LayoutView",
            "grid_template_rows": null,
            "right": null,
            "justify_content": null,
            "_view_module": "@jupyter-widgets/base",
            "overflow": null,
            "_model_module_version": "1.2.0",
            "_view_count": null,
            "flex_flow": null,
            "width": null,
            "min_width": null,
            "border": null,
            "align_items": null,
            "bottom": null,
            "_model_module": "@jupyter-widgets/base",
            "top": null,
            "grid_column": null,
            "overflow_y": null,
            "overflow_x": null,
            "grid_auto_flow": null,
            "grid_area": null,
            "grid_template_columns": null,
            "flex": null,
            "_model_name": "LayoutModel",
            "justify_items": null,
            "grid_row": null,
            "max_height": null,
            "align_content": null,
            "visibility": null,
            "align_self": null,
            "height": null,
            "min_height": null,
            "padding": null,
            "grid_auto_rows": null,
            "grid_gap": null,
            "max_width": null,
            "order": null,
            "_view_module_version": "1.2.0",
            "grid_template_areas": null,
            "object_position": null,
            "object_fit": null,
            "grid_auto_columns": null,
            "margin": null,
            "display": null,
            "left": null
          }
        },
        "ffe9b8bc2170455294678d1a961c1a8a": {
          "model_module": "@jupyter-widgets/controls",
          "model_name": "DescriptionStyleModel",
          "state": {
            "_view_name": "StyleView",
            "_model_name": "DescriptionStyleModel",
            "description_width": "",
            "_view_module": "@jupyter-widgets/base",
            "_model_module_version": "1.5.0",
            "_view_count": null,
            "_view_module_version": "1.2.0",
            "_model_module": "@jupyter-widgets/controls"
          }
        },
        "29030a0ddb0747f88179d2b09d0f6126": {
          "model_module": "@jupyter-widgets/base",
          "model_name": "LayoutModel",
          "state": {
            "_view_name": "LayoutView",
            "grid_template_rows": null,
            "right": null,
            "justify_content": null,
            "_view_module": "@jupyter-widgets/base",
            "overflow": null,
            "_model_module_version": "1.2.0",
            "_view_count": null,
            "flex_flow": null,
            "width": null,
            "min_width": null,
            "border": null,
            "align_items": null,
            "bottom": null,
            "_model_module": "@jupyter-widgets/base",
            "top": null,
            "grid_column": null,
            "overflow_y": null,
            "overflow_x": null,
            "grid_auto_flow": null,
            "grid_area": null,
            "grid_template_columns": null,
            "flex": null,
            "_model_name": "LayoutModel",
            "justify_items": null,
            "grid_row": null,
            "max_height": null,
            "align_content": null,
            "visibility": null,
            "align_self": null,
            "height": null,
            "min_height": null,
            "padding": null,
            "grid_auto_rows": null,
            "grid_gap": null,
            "max_width": null,
            "order": null,
            "_view_module_version": "1.2.0",
            "grid_template_areas": null,
            "object_position": null,
            "object_fit": null,
            "grid_auto_columns": null,
            "margin": null,
            "display": null,
            "left": null
          }
        },
        "1950bfb88199473081d1fbd3d2292b71": {
          "model_module": "@jupyter-widgets/controls",
          "model_name": "HBoxModel",
          "state": {
            "_view_name": "HBoxView",
            "_dom_classes": [],
            "_model_name": "HBoxModel",
            "_view_module": "@jupyter-widgets/controls",
            "_model_module_version": "1.5.0",
            "_view_count": null,
            "_view_module_version": "1.5.0",
            "box_style": "",
            "layout": "IPY_MODEL_b90f7b81ef9943578d3ea72bef46adeb",
            "_model_module": "@jupyter-widgets/controls",
            "children": [
              "IPY_MODEL_480dba0778674ff8a2a970b8deb83628",
              "IPY_MODEL_93378555bddc47d4ac313c83943a49dc"
            ]
          }
        },
        "b90f7b81ef9943578d3ea72bef46adeb": {
          "model_module": "@jupyter-widgets/base",
          "model_name": "LayoutModel",
          "state": {
            "_view_name": "LayoutView",
            "grid_template_rows": null,
            "right": null,
            "justify_content": null,
            "_view_module": "@jupyter-widgets/base",
            "overflow": null,
            "_model_module_version": "1.2.0",
            "_view_count": null,
            "flex_flow": null,
            "width": null,
            "min_width": null,
            "border": null,
            "align_items": null,
            "bottom": null,
            "_model_module": "@jupyter-widgets/base",
            "top": null,
            "grid_column": null,
            "overflow_y": null,
            "overflow_x": null,
            "grid_auto_flow": null,
            "grid_area": null,
            "grid_template_columns": null,
            "flex": null,
            "_model_name": "LayoutModel",
            "justify_items": null,
            "grid_row": null,
            "max_height": null,
            "align_content": null,
            "visibility": null,
            "align_self": null,
            "height": null,
            "min_height": null,
            "padding": null,
            "grid_auto_rows": null,
            "grid_gap": null,
            "max_width": null,
            "order": null,
            "_view_module_version": "1.2.0",
            "grid_template_areas": null,
            "object_position": null,
            "object_fit": null,
            "grid_auto_columns": null,
            "margin": null,
            "display": null,
            "left": null
          }
        },
        "480dba0778674ff8a2a970b8deb83628": {
          "model_module": "@jupyter-widgets/controls",
          "model_name": "FloatProgressModel",
          "state": {
            "_view_name": "ProgressView",
            "style": "IPY_MODEL_2b2aaf8b60f64b2b80184cbdd50448d7",
            "_dom_classes": [],
            "description": "100%",
            "_model_name": "FloatProgressModel",
            "bar_style": "success",
            "max": 96316515,
            "_view_module": "@jupyter-widgets/controls",
            "_model_module_version": "1.5.0",
            "value": 96316515,
            "_view_count": null,
            "_view_module_version": "1.5.0",
            "orientation": "horizontal",
            "min": 0,
            "description_tooltip": null,
            "_model_module": "@jupyter-widgets/controls",
            "layout": "IPY_MODEL_77a8937dfd944fab8ecc9413fc1b7d9a"
          }
        },
        "93378555bddc47d4ac313c83943a49dc": {
          "model_module": "@jupyter-widgets/controls",
          "model_name": "HTMLModel",
          "state": {
            "_view_name": "HTMLView",
            "style": "IPY_MODEL_b3f4af8df5b0434e85fcbe18ebc66ef1",
            "_dom_classes": [],
            "description": "",
            "_model_name": "HTMLModel",
            "placeholder": "​",
            "_view_module": "@jupyter-widgets/controls",
            "_model_module_version": "1.5.0",
            "value": " 91.9M/91.9M [00:01&lt;00:00, 84.1MB/s]",
            "_view_count": null,
            "_view_module_version": "1.5.0",
            "description_tooltip": null,
            "_model_module": "@jupyter-widgets/controls",
            "layout": "IPY_MODEL_da0a779cf26e48a3a7eeef66d5307515"
          }
        },
        "2b2aaf8b60f64b2b80184cbdd50448d7": {
          "model_module": "@jupyter-widgets/controls",
          "model_name": "ProgressStyleModel",
          "state": {
            "_view_name": "StyleView",
            "_model_name": "ProgressStyleModel",
            "description_width": "initial",
            "_view_module": "@jupyter-widgets/base",
            "_model_module_version": "1.5.0",
            "_view_count": null,
            "_view_module_version": "1.2.0",
            "bar_color": null,
            "_model_module": "@jupyter-widgets/controls"
          }
        },
        "77a8937dfd944fab8ecc9413fc1b7d9a": {
          "model_module": "@jupyter-widgets/base",
          "model_name": "LayoutModel",
          "state": {
            "_view_name": "LayoutView",
            "grid_template_rows": null,
            "right": null,
            "justify_content": null,
            "_view_module": "@jupyter-widgets/base",
            "overflow": null,
            "_model_module_version": "1.2.0",
            "_view_count": null,
            "flex_flow": null,
            "width": null,
            "min_width": null,
            "border": null,
            "align_items": null,
            "bottom": null,
            "_model_module": "@jupyter-widgets/base",
            "top": null,
            "grid_column": null,
            "overflow_y": null,
            "overflow_x": null,
            "grid_auto_flow": null,
            "grid_area": null,
            "grid_template_columns": null,
            "flex": null,
            "_model_name": "LayoutModel",
            "justify_items": null,
            "grid_row": null,
            "max_height": null,
            "align_content": null,
            "visibility": null,
            "align_self": null,
            "height": null,
            "min_height": null,
            "padding": null,
            "grid_auto_rows": null,
            "grid_gap": null,
            "max_width": null,
            "order": null,
            "_view_module_version": "1.2.0",
            "grid_template_areas": null,
            "object_position": null,
            "object_fit": null,
            "grid_auto_columns": null,
            "margin": null,
            "display": null,
            "left": null
          }
        },
        "b3f4af8df5b0434e85fcbe18ebc66ef1": {
          "model_module": "@jupyter-widgets/controls",
          "model_name": "DescriptionStyleModel",
          "state": {
            "_view_name": "StyleView",
            "_model_name": "DescriptionStyleModel",
            "description_width": "",
            "_view_module": "@jupyter-widgets/base",
            "_model_module_version": "1.5.0",
            "_view_count": null,
            "_view_module_version": "1.2.0",
            "_model_module": "@jupyter-widgets/controls"
          }
        },
        "da0a779cf26e48a3a7eeef66d5307515": {
          "model_module": "@jupyter-widgets/base",
          "model_name": "LayoutModel",
          "state": {
            "_view_name": "LayoutView",
            "grid_template_rows": null,
            "right": null,
            "justify_content": null,
            "_view_module": "@jupyter-widgets/base",
            "overflow": null,
            "_model_module_version": "1.2.0",
            "_view_count": null,
            "flex_flow": null,
            "width": null,
            "min_width": null,
            "border": null,
            "align_items": null,
            "bottom": null,
            "_model_module": "@jupyter-widgets/base",
            "top": null,
            "grid_column": null,
            "overflow_y": null,
            "overflow_x": null,
            "grid_auto_flow": null,
            "grid_area": null,
            "grid_template_columns": null,
            "flex": null,
            "_model_name": "LayoutModel",
            "justify_items": null,
            "grid_row": null,
            "max_height": null,
            "align_content": null,
            "visibility": null,
            "align_self": null,
            "height": null,
            "min_height": null,
            "padding": null,
            "grid_auto_rows": null,
            "grid_gap": null,
            "max_width": null,
            "order": null,
            "_view_module_version": "1.2.0",
            "grid_template_areas": null,
            "object_position": null,
            "object_fit": null,
            "grid_auto_columns": null,
            "margin": null,
            "display": null,
            "left": null
          }
        }
      }
    }
  },
  "cells": [
    {
      "cell_type": "markdown",
      "metadata": {
        "id": "view-in-github",
        "colab_type": "text"
      },
      "source": [
        "<a href=\"https://colab.research.google.com/github/disco195/Algo/blob/master/Deepstory.ipynb\" target=\"_parent\"><img src=\"https://colab.research.google.com/assets/colab-badge.svg\" alt=\"Open In Colab\"/></a>"
      ]
    },
    {
      "cell_type": "markdown",
      "metadata": {
        "id": "plX-9oRdm7sy"
      },
      "source": [
        "# Deepstory Live Demo"
      ]
    },
    {
      "cell_type": "markdown",
      "metadata": {
        "id": "CJM64K6yrW8m"
      },
      "source": [
        "Make sure GPU is selected for colab!"
      ]
    },
    {
      "cell_type": "code",
      "metadata": {
        "id": "vuPL20OjumA6",
        "colab": {
          "base_uri": "https://localhost:8080/"
        },
        "outputId": "be36ec6a-e195-47ff-f228-1d3f8f1999d4"
      },
      "source": [
        "# check your GPU (I suggest P100)\n",
        "!nvidia-smi -L"
      ],
      "execution_count": 1,
      "outputs": [
        {
          "output_type": "stream",
          "text": [
            "GPU 0: Tesla K80 (UUID: GPU-84d00cb4-f1e1-3d01-9da9-f81824e0a38e)\n"
          ],
          "name": "stdout"
        }
      ]
    },
    {
      "cell_type": "markdown",
      "metadata": {
        "id": "G30lhDsGnBu8"
      },
      "source": [
        "## Setting up the project"
      ]
    },
    {
      "cell_type": "markdown",
      "metadata": {
        "id": "12aQqQZlnTJ8"
      },
      "source": [
        "Download the project"
      ]
    },
    {
      "cell_type": "code",
      "metadata": {
        "id": "acNIPj3akYm7",
        "colab": {
          "base_uri": "https://localhost:8080/"
        },
        "outputId": "a3b8d789-3193-4484-e6dd-090f198f1669"
      },
      "source": [
        "!wget --load-cookies /tmp/cookies.txt \"https://docs.google.com/uc?export=download&confirm=$(wget --quiet --save-cookies /tmp/cookies.txt --keep-session-cookies --no-check-certificate 'https://docs.google.com/uc?export=download&id=1HX37AbMIGbRlfiQ-Qa2OlP_r-Valn0bi' -O- | sed -rn 's/.*confirm=([0-9A-Za-z_]+).*/\\1\\n/p')&id=1HX37AbMIGbRlfiQ-Qa2OlP_r-Valn0bi\" -O Deepstory.zip && rm -rf /tmp/cookies.txt"
      ],
      "execution_count": 2,
      "outputs": [
        {
          "output_type": "stream",
          "text": [
            "--2021-03-22 07:27:00--  https://docs.google.com/uc?export=download&confirm=JGH8&id=1HX37AbMIGbRlfiQ-Qa2OlP_r-Valn0bi\n",
            "Resolving docs.google.com (docs.google.com)... 74.125.206.139, 74.125.206.138, 74.125.206.101, ...\n",
            "Connecting to docs.google.com (docs.google.com)|74.125.206.139|:443... connected.\n",
            "HTTP request sent, awaiting response... 302 Moved Temporarily\n",
            "Location: https://doc-0k-9c-docs.googleusercontent.com/docs/securesc/o85r6h25i2b8l11u1ukt25jdsn3fg1kq/167s07homoj0allc15mue73286534fjr/1616397975000/02729284697124535189/13902792753116914082Z/1HX37AbMIGbRlfiQ-Qa2OlP_r-Valn0bi?e=download [following]\n",
            "--2021-03-22 07:27:01--  https://doc-0k-9c-docs.googleusercontent.com/docs/securesc/o85r6h25i2b8l11u1ukt25jdsn3fg1kq/167s07homoj0allc15mue73286534fjr/1616397975000/02729284697124535189/13902792753116914082Z/1HX37AbMIGbRlfiQ-Qa2OlP_r-Valn0bi?e=download\n",
            "Resolving doc-0k-9c-docs.googleusercontent.com (doc-0k-9c-docs.googleusercontent.com)... 64.233.167.132, 2a00:1450:400c:c0a::84\n",
            "Connecting to doc-0k-9c-docs.googleusercontent.com (doc-0k-9c-docs.googleusercontent.com)|64.233.167.132|:443... connected.\n",
            "HTTP request sent, awaiting response... 302 Found\n",
            "Location: https://docs.google.com/nonceSigner?nonce=gp85u24a55ibg&continue=https://doc-0k-9c-docs.googleusercontent.com/docs/securesc/o85r6h25i2b8l11u1ukt25jdsn3fg1kq/167s07homoj0allc15mue73286534fjr/1616397975000/02729284697124535189/13902792753116914082Z/1HX37AbMIGbRlfiQ-Qa2OlP_r-Valn0bi?e%3Ddownload&hash=k7b7sak03mbr637283hus12v8v606u3r [following]\n",
            "--2021-03-22 07:27:01--  https://docs.google.com/nonceSigner?nonce=gp85u24a55ibg&continue=https://doc-0k-9c-docs.googleusercontent.com/docs/securesc/o85r6h25i2b8l11u1ukt25jdsn3fg1kq/167s07homoj0allc15mue73286534fjr/1616397975000/02729284697124535189/13902792753116914082Z/1HX37AbMIGbRlfiQ-Qa2OlP_r-Valn0bi?e%3Ddownload&hash=k7b7sak03mbr637283hus12v8v606u3r\n",
            "Connecting to docs.google.com (docs.google.com)|74.125.206.139|:443... connected.\n",
            "HTTP request sent, awaiting response... 302 Found\n",
            "Location: https://doc-0k-9c-docs.googleusercontent.com/docs/securesc/o85r6h25i2b8l11u1ukt25jdsn3fg1kq/167s07homoj0allc15mue73286534fjr/1616397975000/02729284697124535189/13902792753116914082Z/1HX37AbMIGbRlfiQ-Qa2OlP_r-Valn0bi?e=download&nonce=gp85u24a55ibg&user=13902792753116914082Z&hash=b60853tmmjfjdpf0bbq13mvhgaa7155i [following]\n",
            "--2021-03-22 07:27:01--  https://doc-0k-9c-docs.googleusercontent.com/docs/securesc/o85r6h25i2b8l11u1ukt25jdsn3fg1kq/167s07homoj0allc15mue73286534fjr/1616397975000/02729284697124535189/13902792753116914082Z/1HX37AbMIGbRlfiQ-Qa2OlP_r-Valn0bi?e=download&nonce=gp85u24a55ibg&user=13902792753116914082Z&hash=b60853tmmjfjdpf0bbq13mvhgaa7155i\n",
            "Connecting to doc-0k-9c-docs.googleusercontent.com (doc-0k-9c-docs.googleusercontent.com)|64.233.167.132|:443... connected.\n",
            "HTTP request sent, awaiting response... 200 OK\n",
            "Length: unspecified [application/zip]\n",
            "Saving to: ‘Deepstory.zip’\n",
            "\n",
            "Deepstory.zip           [      <=>           ]   6.71G  92.6MB/s    in 2m 33s  \n",
            "\n",
            "2021-03-22 07:29:34 (45.0 MB/s) - ‘Deepstory.zip’ saved [7208046394]\n",
            "\n"
          ],
          "name": "stdout"
        }
      ]
    },
    {
      "cell_type": "markdown",
      "metadata": {
        "id": "HvP61zKXneFZ"
      },
      "source": [
        "Unzip the files"
      ]
    },
    {
      "cell_type": "code",
      "metadata": {
        "id": "BBj2ZbJdka1l"
      },
      "source": [
        "# progress hidden, too many files...\n",
        "!unzip -qq Deepstory.zip"
      ],
      "execution_count": 3,
      "outputs": []
    },
    {
      "cell_type": "markdown",
      "metadata": {
        "id": "mb4hsCjwscH5"
      },
      "source": [
        "Redirect to the folder"
      ]
    },
    {
      "cell_type": "code",
      "metadata": {
        "id": "jJ-We8kIlbUs",
        "colab": {
          "base_uri": "https://localhost:8080/"
        },
        "outputId": "cb953f1d-dfee-4eb9-a937-c1b1465cd173"
      },
      "source": [
        "%cd Deepstory/"
      ],
      "execution_count": 4,
      "outputs": [
        {
          "output_type": "stream",
          "text": [
            "/content/Deepstory\n"
          ],
          "name": "stdout"
        }
      ]
    },
    {
      "cell_type": "markdown",
      "metadata": {
        "id": "t-UIQ4_VsfBV"
      },
      "source": [
        "Install packages (Only need to install few packages that colab doesn't have)"
      ]
    },
    {
      "cell_type": "code",
      "metadata": {
        "id": "dGEhlL6Jte1k",
        "colab": {
          "base_uri": "https://localhost:8080/"
        },
        "outputId": "90aef281-5925-460a-bb9e-19fddf2a922b"
      },
      "source": [
        "!pip install sk-video ffmpeg-python face-alignment pydub unidecode transformers"
      ],
      "execution_count": 5,
      "outputs": [
        {
          "output_type": "stream",
          "text": [
            "Collecting sk-video\n",
            "\u001b[?25l  Downloading https://files.pythonhosted.org/packages/dd/3f/ce848b8b2062ad1ccf1449094a740c775f6c761339f411e44f1e090f23a7/sk_video-1.1.10-py2.py3-none-any.whl (2.3MB)\n",
            "\u001b[K     |████████████████████████████████| 2.3MB 7.9MB/s \n",
            "\u001b[?25hCollecting ffmpeg-python\n",
            "  Downloading https://files.pythonhosted.org/packages/d7/0c/56be52741f75bad4dc6555991fabd2e07b432d333da82c11ad701123888a/ffmpeg_python-0.2.0-py3-none-any.whl\n",
            "Collecting face-alignment\n",
            "  Downloading https://files.pythonhosted.org/packages/b0/20/d1328e2a014720fecc3b9b1cfc1e6ec3e83d81373014a2b167610ace42a9/face_alignment-1.3.3.tar.gz\n",
            "Collecting pydub\n",
            "  Downloading https://files.pythonhosted.org/packages/a6/53/d78dc063216e62fc55f6b2eebb447f6a4b0a59f55c8406376f76bf959b08/pydub-0.25.1-py2.py3-none-any.whl\n",
            "Collecting unidecode\n",
            "\u001b[?25l  Downloading https://files.pythonhosted.org/packages/9e/25/723487ca2a52ebcee88a34d7d1f5a4b80b793f179ee0f62d5371938dfa01/Unidecode-1.2.0-py2.py3-none-any.whl (241kB)\n",
            "\u001b[K     |████████████████████████████████| 245kB 37.9MB/s \n",
            "\u001b[?25hCollecting transformers\n",
            "\u001b[?25l  Downloading https://files.pythonhosted.org/packages/ed/d5/f4157a376b8a79489a76ce6cfe147f4f3be1e029b7144fa7b8432e8acb26/transformers-4.4.2-py3-none-any.whl (2.0MB)\n",
            "\u001b[K     |████████████████████████████████| 2.0MB 39.6MB/s \n",
            "\u001b[?25hRequirement already satisfied: numpy in /usr/local/lib/python3.7/dist-packages (from sk-video) (1.19.5)\n",
            "Requirement already satisfied: scipy in /usr/local/lib/python3.7/dist-packages (from sk-video) (1.4.1)\n",
            "Requirement already satisfied: future in /usr/local/lib/python3.7/dist-packages (from ffmpeg-python) (0.16.0)\n",
            "Requirement already satisfied: torch in /usr/local/lib/python3.7/dist-packages (from face-alignment) (1.8.0+cu101)\n",
            "Requirement already satisfied: scikit-image in /usr/local/lib/python3.7/dist-packages (from face-alignment) (0.16.2)\n",
            "Requirement already satisfied: opencv-python in /usr/local/lib/python3.7/dist-packages (from face-alignment) (4.1.2.30)\n",
            "Requirement already satisfied: tqdm in /usr/local/lib/python3.7/dist-packages (from face-alignment) (4.41.1)\n",
            "Requirement already satisfied: numba in /usr/local/lib/python3.7/dist-packages (from face-alignment) (0.51.2)\n",
            "Collecting tokenizers<0.11,>=0.10.1\n",
            "\u001b[?25l  Downloading https://files.pythonhosted.org/packages/71/23/2ddc317b2121117bf34dd00f5b0de194158f2a44ee2bf5e47c7166878a97/tokenizers-0.10.1-cp37-cp37m-manylinux2010_x86_64.whl (3.2MB)\n",
            "\u001b[K     |████████████████████████████████| 3.2MB 37.7MB/s \n",
            "\u001b[?25hRequirement already satisfied: importlib-metadata; python_version < \"3.8\" in /usr/local/lib/python3.7/dist-packages (from transformers) (3.7.2)\n",
            "Requirement already satisfied: requests in /usr/local/lib/python3.7/dist-packages (from transformers) (2.23.0)\n",
            "Requirement already satisfied: regex!=2019.12.17 in /usr/local/lib/python3.7/dist-packages (from transformers) (2019.12.20)\n",
            "Requirement already satisfied: packaging in /usr/local/lib/python3.7/dist-packages (from transformers) (20.9)\n",
            "Collecting sacremoses\n",
            "\u001b[?25l  Downloading https://files.pythonhosted.org/packages/7d/34/09d19aff26edcc8eb2a01bed8e98f13a1537005d31e95233fd48216eed10/sacremoses-0.0.43.tar.gz (883kB)\n",
            "\u001b[K     |████████████████████████████████| 890kB 40.8MB/s \n",
            "\u001b[?25hRequirement already satisfied: filelock in /usr/local/lib/python3.7/dist-packages (from transformers) (3.0.12)\n",
            "Requirement already satisfied: typing-extensions in /usr/local/lib/python3.7/dist-packages (from torch->face-alignment) (3.7.4.3)\n",
            "Requirement already satisfied: matplotlib!=3.0.0,>=2.0.0 in /usr/local/lib/python3.7/dist-packages (from scikit-image->face-alignment) (3.2.2)\n",
            "Requirement already satisfied: PyWavelets>=0.4.0 in /usr/local/lib/python3.7/dist-packages (from scikit-image->face-alignment) (1.1.1)\n",
            "Requirement already satisfied: pillow>=4.3.0 in /usr/local/lib/python3.7/dist-packages (from scikit-image->face-alignment) (7.0.0)\n",
            "Requirement already satisfied: networkx>=2.0 in /usr/local/lib/python3.7/dist-packages (from scikit-image->face-alignment) (2.5)\n",
            "Requirement already satisfied: imageio>=2.3.0 in /usr/local/lib/python3.7/dist-packages (from scikit-image->face-alignment) (2.4.1)\n",
            "Requirement already satisfied: setuptools in /usr/local/lib/python3.7/dist-packages (from numba->face-alignment) (54.1.2)\n",
            "Requirement already satisfied: llvmlite<0.35,>=0.34.0.dev0 in /usr/local/lib/python3.7/dist-packages (from numba->face-alignment) (0.34.0)\n",
            "Requirement already satisfied: zipp>=0.5 in /usr/local/lib/python3.7/dist-packages (from importlib-metadata; python_version < \"3.8\"->transformers) (3.4.1)\n",
            "Requirement already satisfied: idna<3,>=2.5 in /usr/local/lib/python3.7/dist-packages (from requests->transformers) (2.10)\n",
            "Requirement already satisfied: urllib3!=1.25.0,!=1.25.1,<1.26,>=1.21.1 in /usr/local/lib/python3.7/dist-packages (from requests->transformers) (1.24.3)\n",
            "Requirement already satisfied: chardet<4,>=3.0.2 in /usr/local/lib/python3.7/dist-packages (from requests->transformers) (3.0.4)\n",
            "Requirement already satisfied: certifi>=2017.4.17 in /usr/local/lib/python3.7/dist-packages (from requests->transformers) (2020.12.5)\n",
            "Requirement already satisfied: pyparsing>=2.0.2 in /usr/local/lib/python3.7/dist-packages (from packaging->transformers) (2.4.7)\n",
            "Requirement already satisfied: six in /usr/local/lib/python3.7/dist-packages (from sacremoses->transformers) (1.15.0)\n",
            "Requirement already satisfied: click in /usr/local/lib/python3.7/dist-packages (from sacremoses->transformers) (7.1.2)\n",
            "Requirement already satisfied: joblib in /usr/local/lib/python3.7/dist-packages (from sacremoses->transformers) (1.0.1)\n",
            "Requirement already satisfied: kiwisolver>=1.0.1 in /usr/local/lib/python3.7/dist-packages (from matplotlib!=3.0.0,>=2.0.0->scikit-image->face-alignment) (1.3.1)\n",
            "Requirement already satisfied: python-dateutil>=2.1 in /usr/local/lib/python3.7/dist-packages (from matplotlib!=3.0.0,>=2.0.0->scikit-image->face-alignment) (2.8.1)\n",
            "Requirement already satisfied: cycler>=0.10 in /usr/local/lib/python3.7/dist-packages (from matplotlib!=3.0.0,>=2.0.0->scikit-image->face-alignment) (0.10.0)\n",
            "Requirement already satisfied: decorator>=4.3.0 in /usr/local/lib/python3.7/dist-packages (from networkx>=2.0->scikit-image->face-alignment) (4.4.2)\n",
            "Building wheels for collected packages: face-alignment, sacremoses\n",
            "  Building wheel for face-alignment (setup.py) ... \u001b[?25l\u001b[?25hdone\n",
            "  Created wheel for face-alignment: filename=face_alignment-1.3.3-py2.py3-none-any.whl size=27562 sha256=35cda62fd0da745cd064d1d206d910fa695e6eaca185296ad57db2f4c7cb3be4\n",
            "  Stored in directory: /root/.cache/pip/wheels/76/1b/f7/7c61075544ea85a866ec89d1b455b123dad18c13361c02ff2b\n",
            "  Building wheel for sacremoses (setup.py) ... \u001b[?25l\u001b[?25hdone\n",
            "  Created wheel for sacremoses: filename=sacremoses-0.0.43-cp37-none-any.whl size=893262 sha256=1651bd11e9ddd5121734155cc4b6d370f5bd59911d6c72423832c510e4c15a24\n",
            "  Stored in directory: /root/.cache/pip/wheels/29/3c/fd/7ce5c3f0666dab31a50123635e6fb5e19ceb42ce38d4e58f45\n",
            "Successfully built face-alignment sacremoses\n",
            "Installing collected packages: sk-video, ffmpeg-python, face-alignment, pydub, unidecode, tokenizers, sacremoses, transformers\n",
            "Successfully installed face-alignment-1.3.3 ffmpeg-python-0.2.0 pydub-0.25.1 sacremoses-0.0.43 sk-video-1.1.10 tokenizers-0.10.1 transformers-4.4.2 unidecode-1.2.0\n"
          ],
          "name": "stdout"
        }
      ]
    },
    {
      "cell_type": "markdown",
      "metadata": {
        "id": "N4LEv-7j1yWh"
      },
      "source": [
        "In case the code above doesn't work, just install all the packages from requirements.txt with the correct versions of packages. (Need to restart)\n",
        "\n",
        ">!pip install -r requirements.txt"
      ]
    },
    {
      "cell_type": "markdown",
      "metadata": {
        "id": "CLW0UhmFspMM"
      },
      "source": [
        "Install Flask ngrok so that the app can be connected externally"
      ]
    },
    {
      "cell_type": "code",
      "metadata": {
        "id": "JDUXg1G_q70G",
        "colab": {
          "base_uri": "https://localhost:8080/"
        },
        "outputId": "58d0ba6d-6fa8-44aa-8618-3ec263db82e6"
      },
      "source": [
        "!pip install flask-ngrok"
      ],
      "execution_count": 6,
      "outputs": [
        {
          "output_type": "stream",
          "text": [
            "Collecting flask-ngrok\n",
            "  Downloading https://files.pythonhosted.org/packages/af/6c/f54cb686ad1129e27d125d182f90f52b32f284e6c8df58c1bae54fa1adbc/flask_ngrok-0.0.25-py3-none-any.whl\n",
            "Requirement already satisfied: Flask>=0.8 in /usr/local/lib/python3.7/dist-packages (from flask-ngrok) (1.1.2)\n",
            "Requirement already satisfied: requests in /usr/local/lib/python3.7/dist-packages (from flask-ngrok) (2.23.0)\n",
            "Requirement already satisfied: click>=5.1 in /usr/local/lib/python3.7/dist-packages (from Flask>=0.8->flask-ngrok) (7.1.2)\n",
            "Requirement already satisfied: Werkzeug>=0.15 in /usr/local/lib/python3.7/dist-packages (from Flask>=0.8->flask-ngrok) (1.0.1)\n",
            "Requirement already satisfied: itsdangerous>=0.24 in /usr/local/lib/python3.7/dist-packages (from Flask>=0.8->flask-ngrok) (1.1.0)\n",
            "Requirement already satisfied: Jinja2>=2.10.1 in /usr/local/lib/python3.7/dist-packages (from Flask>=0.8->flask-ngrok) (2.11.3)\n",
            "Requirement already satisfied: chardet<4,>=3.0.2 in /usr/local/lib/python3.7/dist-packages (from requests->flask-ngrok) (3.0.4)\n",
            "Requirement already satisfied: idna<3,>=2.5 in /usr/local/lib/python3.7/dist-packages (from requests->flask-ngrok) (2.10)\n",
            "Requirement already satisfied: urllib3!=1.25.0,!=1.25.1,<1.26,>=1.21.1 in /usr/local/lib/python3.7/dist-packages (from requests->flask-ngrok) (1.24.3)\n",
            "Requirement already satisfied: certifi>=2017.4.17 in /usr/local/lib/python3.7/dist-packages (from requests->flask-ngrok) (2020.12.5)\n",
            "Requirement already satisfied: MarkupSafe>=0.23 in /usr/local/lib/python3.7/dist-packages (from Jinja2>=2.10.1->Flask>=0.8->flask-ngrok) (1.1.1)\n",
            "Installing collected packages: flask-ngrok\n",
            "Successfully installed flask-ngrok-0.0.25\n"
          ],
          "name": "stdout"
        }
      ]
    },
    {
      "cell_type": "markdown",
      "metadata": {
        "id": "Od4OPQZXu2Kc"
      },
      "source": [
        "## Running the project"
      ]
    },
    {
      "cell_type": "markdown",
      "metadata": {
        "id": "u47W_0-l5p1E"
      },
      "source": [
        "import flask app class from app.py"
      ]
    },
    {
      "cell_type": "code",
      "metadata": {
        "id": "on3DTM35qCL4",
        "colab": {
          "base_uri": "https://localhost:8080/"
        },
        "outputId": "1e35370b-01c8-4910-c7e9-5ba155f4ac0a"
      },
      "source": [
        "from app import app"
      ],
      "execution_count": 7,
      "outputs": [
        {
          "output_type": "stream",
          "text": [
            "Deepstory instance created\n"
          ],
          "name": "stdout"
        }
      ]
    },
    {
      "cell_type": "code",
      "metadata": {
        "id": "Zxw0k854q_9A"
      },
      "source": [
        "from flask_ngrok import run_with_ngrok\n",
        "run_with_ngrok(app)"
      ],
      "execution_count": 8,
      "outputs": []
    },
    {
      "cell_type": "markdown",
      "metadata": {
        "id": "6UCTxeGR2MBO"
      },
      "source": [
        "The external url of the app will be in the debug messages of the cell under. e.g. http://aeae90198086.ngrok.io"
      ]
    },
    {
      "cell_type": "code",
      "metadata": {
        "id": "tkJcvR7XrGBh",
        "colab": {
          "base_uri": "https://localhost:8080/",
          "height": 1000,
          "referenced_widgets": [
            "4b1ab02724ed49ccb9cd4897e15dd533",
            "b9b16bc664f549839116e74bd7e12418",
            "fc6064631f4141cfb816a67a109b5d10",
            "1f09dcee5c314106aa01ab3647cf8312",
            "12b649e7fe284ae8952a1bfcf6dac86b",
            "54d5a5591ff848489056720b98f716ca",
            "ffe9b8bc2170455294678d1a961c1a8a",
            "29030a0ddb0747f88179d2b09d0f6126",
            "1950bfb88199473081d1fbd3d2292b71",
            "b90f7b81ef9943578d3ea72bef46adeb",
            "480dba0778674ff8a2a970b8deb83628",
            "93378555bddc47d4ac313c83943a49dc",
            "2b2aaf8b60f64b2b80184cbdd50448d7",
            "77a8937dfd944fab8ecc9413fc1b7d9a",
            "b3f4af8df5b0434e85fcbe18ebc66ef1",
            "da0a779cf26e48a3a7eeef66d5307515"
          ]
        },
        "outputId": "0f3cd0c9-1628-491a-ca88-8286023abedc"
      },
      "source": [
        "# You can see the debug messages as well...\n",
        "app.run()"
      ],
      "execution_count": null,
      "outputs": [
        {
          "output_type": "stream",
          "text": [
            " * Serving Flask app \"app\" (lazy loading)\n",
            " * Environment: production\n",
            "\u001b[31m   WARNING: This is a development server. Do not use it in a production deployment.\u001b[0m\n",
            "\u001b[2m   Use a production WSGI server instead.\u001b[0m\n",
            " * Debug mode: off\n"
          ],
          "name": "stdout"
        },
        {
          "output_type": "stream",
          "text": [
            " * Running on http://127.0.0.1:5000/ (Press CTRL+C to quit)\n"
          ],
          "name": "stderr"
        },
        {
          "output_type": "stream",
          "text": [
            " * Running on http://0d21448656cb.ngrok.io\n",
            " * Traffic stats available on http://127.0.0.1:4040\n"
          ],
          "name": "stdout"
        },
        {
          "output_type": "stream",
          "text": [
            "127.0.0.1 - - [22/Mar/2021 07:36:07] \"\u001b[37mGET / HTTP/1.1\u001b[0m\" 200 -\n",
            "127.0.0.1 - - [22/Mar/2021 07:36:08] \"\u001b[37mGET /static/bootstrap/css/bootstrap.min.css HTTP/1.1\u001b[0m\" 200 -\n",
            "127.0.0.1 - - [22/Mar/2021 07:36:08] \"\u001b[37mGET /static/css/styles.css HTTP/1.1\u001b[0m\" 200 -\n",
            "127.0.0.1 - - [22/Mar/2021 07:36:08] \"\u001b[37mGET /static/js/jquery.min.js HTTP/1.1\u001b[0m\" 200 -\n",
            "127.0.0.1 - - [22/Mar/2021 07:36:08] \"\u001b[37mGET /static/bootstrap/js/bootstrap.min.js HTTP/1.1\u001b[0m\" 200 -\n",
            "127.0.0.1 - - [22/Mar/2021 07:36:09] \"\u001b[37mGET /deepstory.js HTTP/1.1\u001b[0m\" 200 -\n",
            "127.0.0.1 - - [22/Mar/2021 07:36:10] \"\u001b[37mGET /sentences HTTP/1.1\u001b[0m\" 200 -\n",
            "127.0.0.1 - - [22/Mar/2021 07:36:10] \"\u001b[37mGET /status HTTP/1.1\u001b[0m\" 200 -\n",
            "127.0.0.1 - - [22/Mar/2021 07:36:10] \"\u001b[37mGET /animate HTTP/1.1\u001b[0m\" 200 -\n",
            "127.0.0.1 - - [22/Mar/2021 07:36:10] \"\u001b[37mGET /gpt2 HTTP/1.1\u001b[0m\" 200 -\n",
            "127.0.0.1 - - [22/Mar/2021 07:36:10] \"\u001b[37mGET /map HTTP/1.1\u001b[0m\" 200 -\n",
            "127.0.0.1 - - [22/Mar/2021 07:36:10] \"\u001b[37mGET /video HTTP/1.1\u001b[0m\" 200 -\n",
            "127.0.0.1 - - [22/Mar/2021 07:36:10] \"\u001b[37mGET /gen_sents HTTP/1.1\u001b[0m\" 200 -\n",
            "127.0.0.1 - - [22/Mar/2021 07:36:10] \"\u001b[33mGET /favicon.ico HTTP/1.1\u001b[0m\" 404 -\n",
            "127.0.0.1 - - [22/Mar/2021 07:36:50] \"\u001b[37mPOST /modify HTTP/1.1\u001b[0m\" 200 -\n",
            "127.0.0.1 - - [22/Mar/2021 07:36:53] \"\u001b[37mGET /sentences HTTP/1.1\u001b[0m\" 200 -\n",
            "127.0.0.1 - - [22/Mar/2021 07:37:43] \"\u001b[37mPOST /load_sentence HTTP/1.1\u001b[0m\" 200 -\n",
            "127.0.0.1 - - [22/Mar/2021 07:37:45] \"\u001b[37mGET /sentences HTTP/1.1\u001b[0m\" 200 -\n",
            "127.0.0.1 - - [22/Mar/2021 07:37:45] \"\u001b[37mGET /map HTTP/1.1\u001b[0m\" 200 -\n",
            "127.0.0.1 - - [22/Mar/2021 07:38:07] \"\u001b[37mGET /load_text?model=Waiting%20for%20Godot&lines=10 HTTP/1.1\u001b[0m\" 200 -\n",
            "127.0.0.1 - - [22/Mar/2021 07:38:07] \"\u001b[37mGET /gpt2 HTTP/1.1\u001b[0m\" 200 -\n",
            "127.0.0.1 - - [22/Mar/2021 07:38:13] \"\u001b[37mGET /load_text?model=Witcher%20Books&lines=10 HTTP/1.1\u001b[0m\" 200 -\n",
            "127.0.0.1 - - [22/Mar/2021 07:38:13] \"\u001b[37mGET /gpt2 HTTP/1.1\u001b[0m\" 200 -\n",
            "127.0.0.1 - - [22/Mar/2021 07:38:34] \"\u001b[31m\u001b[1mPOST /generate_text HTTP/1.1\u001b[0m\" 403 -\n",
            "127.0.0.1 - - [22/Mar/2021 07:39:03] \"\u001b[37mPOST /modify HTTP/1.1\u001b[0m\" 200 -\n",
            "127.0.0.1 - - [22/Mar/2021 07:39:06] \"\u001b[37mGET /sentences HTTP/1.1\u001b[0m\" 200 -\n",
            "127.0.0.1 - - [22/Mar/2021 07:39:12] \"\u001b[37mGET / HTTP/1.1\u001b[0m\" 200 -\n",
            "127.0.0.1 - - [22/Mar/2021 07:39:15] \"\u001b[37mGET /deepstory.js HTTP/1.1\u001b[0m\" 200 -\n",
            "127.0.0.1 - - [22/Mar/2021 07:39:16] \"\u001b[37mGET /sentences HTTP/1.1\u001b[0m\" 200 -\n",
            "127.0.0.1 - - [22/Mar/2021 07:39:17] \"\u001b[37mGET /animate HTTP/1.1\u001b[0m\" 200 -\n",
            "127.0.0.1 - - [22/Mar/2021 07:39:17] \"\u001b[37mGET /status HTTP/1.1\u001b[0m\" 200 -\n",
            "127.0.0.1 - - [22/Mar/2021 07:39:18] \"\u001b[37mGET /gpt2 HTTP/1.1\u001b[0m\" 200 -\n",
            "127.0.0.1 - - [22/Mar/2021 07:39:18] \"\u001b[37mGET /video HTTP/1.1\u001b[0m\" 200 -\n",
            "127.0.0.1 - - [22/Mar/2021 07:39:18] \"\u001b[37mGET /map HTTP/1.1\u001b[0m\" 200 -\n",
            "127.0.0.1 - - [22/Mar/2021 07:39:19] \"\u001b[37mGET /gen_sents HTTP/1.1\u001b[0m\" 200 -\n",
            "127.0.0.1 - - [22/Mar/2021 07:39:22] \"\u001b[37mGET / HTTP/1.1\u001b[0m\" 200 -\n",
            "127.0.0.1 - - [22/Mar/2021 07:39:22] \"\u001b[37mGET /static/bootstrap/css/bootstrap.min.css HTTP/1.1\u001b[0m\" 200 -\n",
            "127.0.0.1 - - [22/Mar/2021 07:39:23] \"\u001b[37mGET /deepstory.js HTTP/1.1\u001b[0m\" 200 -\n",
            "127.0.0.1 - - [22/Mar/2021 07:39:29] \"\u001b[37mGET /static/bootstrap/js/bootstrap.min.js HTTP/1.1\u001b[0m\" 200 -\n",
            "127.0.0.1 - - [22/Mar/2021 07:39:29] \"\u001b[37mGET /static/js/jquery.min.js HTTP/1.1\u001b[0m\" 200 -\n",
            "127.0.0.1 - - [22/Mar/2021 07:39:30] \"\u001b[37mGET /static/css/styles.css HTTP/1.1\u001b[0m\" 200 -\n",
            "127.0.0.1 - - [22/Mar/2021 07:39:31] \"\u001b[37mGET /gpt2 HTTP/1.1\u001b[0m\" 200 -\n",
            "127.0.0.1 - - [22/Mar/2021 07:39:31] \"\u001b[37mGET /status HTTP/1.1\u001b[0m\" 200 -\n",
            "127.0.0.1 - - [22/Mar/2021 07:39:31] \"\u001b[37mGET /sentences HTTP/1.1\u001b[0m\" 200 -\n",
            "127.0.0.1 - - [22/Mar/2021 07:39:31] \"\u001b[37mGET /video HTTP/1.1\u001b[0m\" 200 -\n",
            "127.0.0.1 - - [22/Mar/2021 07:39:32] \"\u001b[37mGET /animate HTTP/1.1\u001b[0m\" 200 -\n",
            "127.0.0.1 - - [22/Mar/2021 07:39:32] \"\u001b[37mGET /map HTTP/1.1\u001b[0m\" 200 -\n",
            "127.0.0.1 - - [22/Mar/2021 07:39:32] \"\u001b[37mGET /gen_sents HTTP/1.1\u001b[0m\" 200 -\n",
            "127.0.0.1 - - [22/Mar/2021 07:39:34] \"\u001b[33mGET /favicon.ico HTTP/1.1\u001b[0m\" 404 -\n",
            "127.0.0.1 - - [22/Mar/2021 07:39:52] \"\u001b[37mGET /load_gpt2?model=Waiting%20for%20Godot HTTP/1.1\u001b[0m\" 200 -\n",
            "/usr/local/lib/python3.7/dist-packages/torch/nn/functional.py:1709: UserWarning: nn.functional.sigmoid is deprecated. Use torch.sigmoid instead.\n",
            "  warnings.warn(\"nn.functional.sigmoid is deprecated. Use torch.sigmoid instead.\")\n",
            "/usr/local/lib/python3.7/dist-packages/torch/nn/functional.py:1709: UserWarning: nn.functional.sigmoid is deprecated. Use torch.sigmoid instead.\n",
            "  warnings.warn(\"nn.functional.sigmoid is deprecated. Use torch.sigmoid instead.\")\n",
            "127.0.0.1 - - [22/Mar/2021 07:40:46] \"\u001b[37mGET /synthesize HTTP/1.1\u001b[0m\" 200 -\n",
            "127.0.0.1 - - [22/Mar/2021 07:40:46] \"\u001b[37mGET /synthesize HTTP/1.1\u001b[0m\" 200 -\n",
            "127.0.0.1 - - [22/Mar/2021 07:40:46] \"\u001b[37mGET /status HTTP/1.1\u001b[0m\" 200 -\n",
            "127.0.0.1 - - [22/Mar/2021 07:40:46] \"\u001b[37mGET /sentences HTTP/1.1\u001b[0m\" 200 -\n",
            "127.0.0.1 - - [22/Mar/2021 07:43:24] \"\u001b[37mGET /wav/0 HTTP/1.1\u001b[0m\" 200 -\n",
            "127.0.0.1 - - [22/Mar/2021 07:43:24] \"\u001b[37mGET /wav/1 HTTP/1.1\u001b[0m\" 200 -\n",
            "127.0.0.1 - - [22/Mar/2021 07:43:24] \"\u001b[37mGET /wav/2 HTTP/1.1\u001b[0m\" 200 -\n",
            "127.0.0.1 - - [22/Mar/2021 07:43:38] \"\u001b[37mGET /wav/0 HTTP/1.1\u001b[0m\" 200 -\n",
            "127.0.0.1 - - [22/Mar/2021 07:43:41] \"\u001b[37mGET /wav/1 HTTP/1.1\u001b[0m\" 200 -\n",
            "127.0.0.1 - - [22/Mar/2021 07:43:44] \"\u001b[37mGET /wav/2 HTTP/1.1\u001b[0m\" 200 -\n",
            "127.0.0.1 - - [22/Mar/2021 07:44:14] \"\u001b[37mGET /combine HTTP/1.1\u001b[0m\" 200 -\n",
            "127.0.0.1 - - [22/Mar/2021 07:44:16] \"\u001b[37mGET /status HTTP/1.1\u001b[0m\" 200 -\n",
            "Downloading: \"https://www.adrianbulat.com/downloads/python-fan/s3fd-619a316812.pth\" to /root/.cache/torch/hub/checkpoints/s3fd-619a316812.pth\n"
          ],
          "name": "stderr"
        },
        {
          "output_type": "display_data",
          "data": {
            "application/vnd.jupyter.widget-view+json": {
              "model_id": "4b1ab02724ed49ccb9cd4897e15dd533",
              "version_minor": 0,
              "version_major": 2
            },
            "text/plain": [
              "HBox(children=(FloatProgress(value=0.0, max=89843225.0), HTML(value='')))"
            ]
          },
          "metadata": {
            "tags": []
          }
        },
        {
          "output_type": "stream",
          "text": [
            "\n"
          ],
          "name": "stdout"
        },
        {
          "output_type": "stream",
          "text": [
            "Downloading: \"https://www.adrianbulat.com/downloads/python-fan/2DFAN4-cd938726ad.zip\" to /root/.cache/torch/hub/checkpoints/2DFAN4-cd938726ad.zip\n"
          ],
          "name": "stderr"
        },
        {
          "output_type": "display_data",
          "data": {
            "application/vnd.jupyter.widget-view+json": {
              "model_id": "1950bfb88199473081d1fbd3d2292b71",
              "version_minor": 0,
              "version_major": 2
            },
            "text/plain": [
              "HBox(children=(FloatProgress(value=0.0, max=96316515.0), HTML(value='')))"
            ]
          },
          "metadata": {
            "tags": []
          }
        },
        {
          "output_type": "stream",
          "text": [
            "\n"
          ],
          "name": "stdout"
        },
        {
          "output_type": "stream",
          "text": [
            "127.0.0.1 - - [22/Mar/2021 07:44:48] \"\u001b[37mGET /create_base HTTP/1.1\u001b[0m\" 200 -\n",
            "127.0.0.1 - - [22/Mar/2021 07:44:51] \"\u001b[37mGET /status HTTP/1.1\u001b[0m\" 200 -\n",
            "127.0.0.1 - - [22/Mar/2021 07:44:51] \"\u001b[37mGET /animate HTTP/1.1\u001b[0m\" 200 -\n",
            "127.0.0.1 - - [22/Mar/2021 07:44:52] \"\u001b[37mGET /image/Geralt/0.jpg HTTP/1.1\u001b[0m\" 200 -\n",
            "127.0.0.1 - - [22/Mar/2021 07:44:56] \"\u001b[37mGET /image/Yennefer/1.jpg HTTP/1.1\u001b[0m\" 200 -\n",
            "127.0.0.1 - - [22/Mar/2021 07:44:58] \"\u001b[37mGET /image/Other/marilyn.jpg HTTP/1.1\u001b[0m\" 200 -\n",
            "127.0.0.1 - - [22/Mar/2021 07:45:00] \"\u001b[37mGET /image/Other/marilyn.jpg HTTP/1.1\u001b[0m\" 200 -\n",
            "127.0.0.1 - - [22/Mar/2021 07:45:01] \"\u001b[37mGET /image/Geralt/2.jpg HTTP/1.1\u001b[0m\" 200 -\n",
            "127.0.0.1 - - [22/Mar/2021 07:45:04] \"\u001b[37mGET /image/Geralt/fx.jpg HTTP/1.1\u001b[0m\" 200 -\n",
            "127.0.0.1 - - [22/Mar/2021 07:45:09] \"\u001b[37mGET /image/Geralt/1.jpg HTTP/1.1\u001b[0m\" 200 -\n",
            "127.0.0.1 - - [22/Mar/2021 07:45:12] \"\u001b[37mGET /image/Geralt/10.jpg HTTP/1.1\u001b[0m\" 200 -\n",
            "/usr/local/lib/python3.7/dist-packages/torch/nn/functional.py:3500: UserWarning: The default behavior for interpolate/upsample with float scale_factor changed in 1.6.0 to align with other frameworks/libraries, and now uses scale_factor directly, instead of relying on the computed output size. If you wish to restore the old behavior, please set recompute_scale_factor=True. See the documentation of nn.Upsample for details. \n",
            "  \"The default behavior for interpolate/upsample with float scale_factor changed \"\n",
            "/usr/local/lib/python3.7/dist-packages/torch/nn/functional.py:3826: UserWarning: Default grid_sample and affine_grid behavior has changed to align_corners=False since 1.3.0. Please specify align_corners=True if the old behavior is desired. See the documentation of grid_sample for details.\n",
            "  \"Default grid_sample and affine_grid behavior has changed \"\n",
            "/usr/local/lib/python3.7/dist-packages/torch/nn/functional.py:3455: UserWarning: Default upsampling behavior when mode=bilinear is changed to align_corners=False since 0.4.0. Please specify align_corners=True if the old behavior is desired. See the documentation of nn.Upsample for details.\n",
            "  \"See the documentation of nn.Upsample for details.\".format(mode)\n",
            "/usr/local/lib/python3.7/dist-packages/torch/nn/functional.py:1709: UserWarning: nn.functional.sigmoid is deprecated. Use torch.sigmoid instead.\n",
            "  warnings.warn(\"nn.functional.sigmoid is deprecated. Use torch.sigmoid instead.\")\n",
            "127.0.0.1 - - [22/Mar/2021 07:45:52] \"\u001b[37mPOST /animate HTTP/1.1\u001b[0m\" 200 -\n",
            "127.0.0.1 - - [22/Mar/2021 07:45:54] \"\u001b[37mGET /video HTTP/1.1\u001b[0m\" 200 -\n",
            "127.0.0.1 - - [22/Mar/2021 07:45:54] \"\u001b[37mGET /status HTTP/1.1\u001b[0m\" 200 -\n",
            "127.0.0.1 - - [22/Mar/2021 07:45:58] \"\u001b[37mGET /get_video HTTP/1.1\u001b[0m\" 206 -\n",
            "127.0.0.1 - - [22/Mar/2021 07:46:16] \"\u001b[37mPOST /modify HTTP/1.1\u001b[0m\" 200 -\n",
            "127.0.0.1 - - [22/Mar/2021 07:46:18] \"\u001b[37mGET /sentences HTTP/1.1\u001b[0m\" 200 -\n",
            "127.0.0.1 - - [22/Mar/2021 07:46:18] \"\u001b[37mGET /wav/1 HTTP/1.1\u001b[0m\" 200 -\n",
            "127.0.0.1 - - [22/Mar/2021 07:46:18] \"\u001b[37mGET /wav/0 HTTP/1.1\u001b[0m\" 200 -\n",
            "127.0.0.1 - - [22/Mar/2021 07:46:18] \"\u001b[37mGET /wav/2 HTTP/1.1\u001b[0m\" 200 -\n",
            "127.0.0.1 - - [22/Mar/2021 07:46:32] \"\u001b[37mGET /image/Yennefer/3.jpg HTTP/1.1\u001b[0m\" 200 -\n",
            "/usr/local/lib/python3.7/dist-packages/torch/nn/functional.py:3500: UserWarning: The default behavior for interpolate/upsample with float scale_factor changed in 1.6.0 to align with other frameworks/libraries, and now uses scale_factor directly, instead of relying on the computed output size. If you wish to restore the old behavior, please set recompute_scale_factor=True. See the documentation of nn.Upsample for details. \n",
            "  \"The default behavior for interpolate/upsample with float scale_factor changed \"\n",
            "/usr/local/lib/python3.7/dist-packages/torch/nn/functional.py:3826: UserWarning: Default grid_sample and affine_grid behavior has changed to align_corners=False since 1.3.0. Please specify align_corners=True if the old behavior is desired. See the documentation of grid_sample for details.\n",
            "  \"Default grid_sample and affine_grid behavior has changed \"\n",
            "/usr/local/lib/python3.7/dist-packages/torch/nn/functional.py:3455: UserWarning: Default upsampling behavior when mode=bilinear is changed to align_corners=False since 0.4.0. Please specify align_corners=True if the old behavior is desired. See the documentation of nn.Upsample for details.\n",
            "  \"See the documentation of nn.Upsample for details.\".format(mode)\n",
            "/usr/local/lib/python3.7/dist-packages/torch/nn/functional.py:1709: UserWarning: nn.functional.sigmoid is deprecated. Use torch.sigmoid instead.\n",
            "  warnings.warn(\"nn.functional.sigmoid is deprecated. Use torch.sigmoid instead.\")\n",
            "127.0.0.1 - - [22/Mar/2021 07:46:49] \"\u001b[37mPOST /animate HTTP/1.1\u001b[0m\" 200 -\n",
            "127.0.0.1 - - [22/Mar/2021 07:46:50] \"\u001b[37mGET /status HTTP/1.1\u001b[0m\" 200 -\n",
            "127.0.0.1 - - [22/Mar/2021 07:46:50] \"\u001b[37mGET /video HTTP/1.1\u001b[0m\" 200 -\n",
            "/usr/local/lib/python3.7/dist-packages/torch/nn/functional.py:3500: UserWarning: The default behavior for interpolate/upsample with float scale_factor changed in 1.6.0 to align with other frameworks/libraries, and now uses scale_factor directly, instead of relying on the computed output size. If you wish to restore the old behavior, please set recompute_scale_factor=True. See the documentation of nn.Upsample for details. \n",
            "  \"The default behavior for interpolate/upsample with float scale_factor changed \"\n",
            "/usr/local/lib/python3.7/dist-packages/torch/nn/functional.py:3826: UserWarning: Default grid_sample and affine_grid behavior has changed to align_corners=False since 1.3.0. Please specify align_corners=True if the old behavior is desired. See the documentation of grid_sample for details.\n",
            "  \"Default grid_sample and affine_grid behavior has changed \"\n",
            "/usr/local/lib/python3.7/dist-packages/torch/nn/functional.py:3455: UserWarning: Default upsampling behavior when mode=bilinear is changed to align_corners=False since 0.4.0. Please specify align_corners=True if the old behavior is desired. See the documentation of nn.Upsample for details.\n",
            "  \"See the documentation of nn.Upsample for details.\".format(mode)\n",
            "/usr/local/lib/python3.7/dist-packages/torch/nn/functional.py:1709: UserWarning: nn.functional.sigmoid is deprecated. Use torch.sigmoid instead.\n",
            "  warnings.warn(\"nn.functional.sigmoid is deprecated. Use torch.sigmoid instead.\")\n",
            "127.0.0.1 - - [22/Mar/2021 07:47:16] \"\u001b[37mPOST /animate HTTP/1.1\u001b[0m\" 200 -\n",
            "127.0.0.1 - - [22/Mar/2021 07:47:18] \"\u001b[37mGET /status HTTP/1.1\u001b[0m\" 200 -\n",
            "127.0.0.1 - - [22/Mar/2021 07:47:18] \"\u001b[37mGET /video HTTP/1.1\u001b[0m\" 200 -\n",
            "127.0.0.1 - - [22/Mar/2021 07:47:27] \"\u001b[37mGET /clear HTTP/1.1\u001b[0m\" 200 -\n",
            "127.0.0.1 - - [22/Mar/2021 07:47:29] \"\u001b[37mGET /video HTTP/1.1\u001b[0m\" 200 -\n",
            "127.0.0.1 - - [22/Mar/2021 07:47:29] \"\u001b[37mGET /status HTTP/1.1\u001b[0m\" 200 -\n",
            "127.0.0.1 - - [22/Mar/2021 07:47:29] \"\u001b[37mGET /animate HTTP/1.1\u001b[0m\" 200 -\n",
            "127.0.0.1 - - [22/Mar/2021 08:01:23] \"\u001b[37mGET / HTTP/1.1\u001b[0m\" 200 -\n",
            "127.0.0.1 - - [22/Mar/2021 08:01:24] \"\u001b[37mGET /deepstory.js HTTP/1.1\u001b[0m\" 200 -\n",
            "127.0.0.1 - - [22/Mar/2021 08:01:24] \"\u001b[37mGET /static/css/styles.css HTTP/1.1\u001b[0m\" 200 -\n",
            "127.0.0.1 - - [22/Mar/2021 08:01:24] \"\u001b[37mGET /static/bootstrap/js/bootstrap.min.js HTTP/1.1\u001b[0m\" 200 -\n",
            "127.0.0.1 - - [22/Mar/2021 08:01:24] \"\u001b[37mGET /static/bootstrap/css/bootstrap.min.css HTTP/1.1\u001b[0m\" 200 -\n",
            "127.0.0.1 - - [22/Mar/2021 08:01:24] \"\u001b[37mGET /static/js/jquery.min.js HTTP/1.1\u001b[0m\" 200 -\n",
            "127.0.0.1 - - [22/Mar/2021 08:01:26] \"\u001b[37mGET /status HTTP/1.1\u001b[0m\" 200 -\n",
            "127.0.0.1 - - [22/Mar/2021 08:01:26] \"\u001b[37mGET /sentences HTTP/1.1\u001b[0m\" 200 -\n",
            "127.0.0.1 - - [22/Mar/2021 08:01:26] \"\u001b[37mGET /gpt2 HTTP/1.1\u001b[0m\" 200 -\n",
            "127.0.0.1 - - [22/Mar/2021 08:01:26] \"\u001b[37mGET /gen_sents HTTP/1.1\u001b[0m\" 200 -\n",
            "127.0.0.1 - - [22/Mar/2021 08:01:26] \"\u001b[37mGET /video HTTP/1.1\u001b[0m\" 200 -\n",
            "127.0.0.1 - - [22/Mar/2021 08:01:26] \"\u001b[37mGET /animate HTTP/1.1\u001b[0m\" 200 -\n",
            "127.0.0.1 - - [22/Mar/2021 08:01:26] \"\u001b[37mGET /map HTTP/1.1\u001b[0m\" 200 -\n",
            "127.0.0.1 - - [22/Mar/2021 08:01:27] \"\u001b[37mGET /wav/0 HTTP/1.1\u001b[0m\" 200 -\n",
            "127.0.0.1 - - [22/Mar/2021 08:01:27] \"\u001b[37mGET /wav/1 HTTP/1.1\u001b[0m\" 200 -\n",
            "127.0.0.1 - - [22/Mar/2021 08:01:27] \"\u001b[37mGET /wav/2 HTTP/1.1\u001b[0m\" 200 -\n"
          ],
          "name": "stderr"
        }
      ]
    },
    {
      "cell_type": "markdown",
      "metadata": {
        "id": "mpBP8SQj4hS-"
      },
      "source": [
        "> The first time you run might encounter error messages. Please terminate the cell and run again until you see a ngrok url."
      ]
    },
    {
      "cell_type": "markdown",
      "metadata": {
        "id": "AGtczCfOvSc7"
      },
      "source": [
        "# Instructions"
      ]
    },
    {
      "cell_type": "markdown",
      "metadata": {
        "id": "r43H5q-fvUtP"
      },
      "source": [
        "Main Components\n",
        "\n",
        "1. You can enter your own text (from story) or navigate to the GPT-2 tab to generate text from a fine-tuned GPT-2 model\n",
        "2. Click \"Load sentences\", you can leave the settings untouched.\n",
        "3. After loading, you can further change the speaker or the mapping setting (if available)\n",
        "4. Follow the order of the three button in the bottom panel.\n",
        "5. After clicking synthesize, an audio will be available to be listened. You can decide or change the settings back in the top-left panel \"Text input\".\n",
        "7. After clicking the three buttons and let the \"base video\" to be generated. You can head to the \"Animate\".\n",
        "8. In the \"Animate\" Tab, you will find the correspond speaker with an option to select images from a drop box. Technically, it's possible to upload your own picture, but for now, it reads all the available pictures find under /Deepstory/data/images/, feel free to add any pictures you like in the directory before importing the app class from app.py.\n",
        "9. Click \"Create Animated Video\". This might take awhile.\n",
        "10. Head to the \"View\" tab and click \"View Video\".\n",
        "11. Enjoy your own animated story!"
      ]
    },
    {
      "cell_type": "markdown",
      "metadata": {
        "id": "UTJII_OoyKdd"
      },
      "source": [
        "\n",
        "\n",
        "> Hints: some english words like \"hours\" or \"honest\" might not work directly, you might need to change it to \"ours\" and \"onnest\".\n",
        "\n",
        "> It's quite likely to run out of ram quickly, in this case just terminate the block running app.run()\n",
        "\n"
      ]
    },
    {
      "cell_type": "markdown",
      "metadata": {
        "id": "lBeQIu-_ydKQ"
      },
      "source": [
        "GPT-2\n",
        "1. Head to the GPT-2 Tab.\n",
        "2. \"Load random\" on the left panel loads oringial source text to the interactive text area. The text inside interactive text area is for the continuation by GPT-2. You can either leave it empty (generate randomly), or give a word or text so that the generated text follows the pre-existing content.\n",
        "3. Locate on the right main panel.\n",
        "4. Select a model and click \"Load model\"\n",
        "5. The pre-filled settings are generally best for my experiments, so I suggest leave it unchanged. But you should change predict tokens as for how many tokens to be generated. Click either \"Generate whole text\" or \"Predict sentences\".\n",
        "6. \"Generate whole text\" for filling the tokens specified directly to the text area.\n",
        "7. \"Predict senteces\" will generate another panel on the left hand side under the main panel, it generate the **n** batches and limit and generated content to **n** sentences. You can click the Plus sign to append the generated content to the interactive text area.\n",
        "8. Copy the generated content to the first input and generate audio and video!"
      ]
    },
    {
      "cell_type": "markdown",
      "metadata": {
        "id": "eij7triizAG2"
      },
      "source": [
        "> If you want to know how the parameters (top-k, temperature, ...) work in GPT-2, you can refer to this article. https://huggingface.co/blog/how-to-generate"
      ]
    },
    {
      "cell_type": "markdown",
      "metadata": {
        "id": "4PxfF_5w1a2o"
      },
      "source": [
        "*If you find everything to be too abstract, please visit https://blog.thetobysiu.com/video/ and take a look at the main video. A separate notebook explaining the Deepstory class will be available soon...*"
      ]
    }
  ]
}